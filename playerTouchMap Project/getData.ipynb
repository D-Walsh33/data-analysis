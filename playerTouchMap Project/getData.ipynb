{
 "cells": [
  {
   "cell_type": "code",
   "execution_count": 1,
   "metadata": {},
   "outputs": [],
   "source": [
    "import pandas as pd\n",
    "\n",
    "import nest_asyncio\n",
    "nest_asyncio.apply()\n",
    "import json\n",
    "\n",
    "import aiohttp\n",
    "\n",
    "from understat import Understat"
   ]
  },
  {
   "cell_type": "code",
   "execution_count": 2,
   "metadata": {},
   "outputs": [
    {
     "name": "stdout",
     "output_type": "stream",
     "text": [
      "[{\"id\": \"6055\", \"player_name\": \"Phil Foden\", \"games\": \"32\", \"time\": \"1837\", \"goals\": \"11\", \"xG\": \"6.185852009803057\", \"assists\": \"6\", \"xA\": \"5.697479462251067\", \"shots\": \"46\", \"key_passes\": \"44\", \"yellow_cards\": \"1\", \"red_cards\": \"0\", \"position\": \"F M S\", \"team_title\": \"Manchester City\", \"npg\": \"11\", \"npxG\": \"6.185852009803057\", \"xGChain\": \"17.42637488618493\", \"xGBuildup\": \"8.101508693769574\"}]\n"
     ]
    }
   ],
   "source": [
    "\n",
    "\n",
    "async with aiohttp.ClientSession() as session:\n",
    "    understat = Understat(session)\n",
    "    player = await understat.get_league_players(\n",
    "        \"epl\", 2022,\n",
    "        player_name=\"Phil Foden\",\n",
    "        team_title=\"Manchester City\"\n",
    "    )\n",
    "    print(json.dumps(player))\n"
   ]
  },
  {
   "cell_type": "code",
   "execution_count": 3,
   "metadata": {},
   "outputs": [],
   "source": [
    "async with aiohttp.ClientSession() as session:\n",
    "    understat = Understat(session)\n",
    "    player_shots = await understat.get_player_shots(\n",
    "        1250\n",
    "    )\n",
    "    shots = pd.DataFrame(player_shots)"
   ]
  },
  {
   "cell_type": "code",
   "execution_count": 4,
   "metadata": {},
   "outputs": [],
   "source": [
    "shots.to_csv('./data/moSalahShots.csv')"
   ]
  },
  {
   "cell_type": "code",
   "execution_count": null,
   "metadata": {},
   "outputs": [],
   "source": []
  },
  {
   "cell_type": "code",
   "execution_count": null,
   "metadata": {},
   "outputs": [],
   "source": []
  },
  {
   "cell_type": "code",
   "execution_count": null,
   "metadata": {},
   "outputs": [],
   "source": []
  },
  {
   "cell_type": "code",
   "execution_count": null,
   "metadata": {},
   "outputs": [],
   "source": []
  },
  {
   "cell_type": "code",
   "execution_count": null,
   "metadata": {},
   "outputs": [],
   "source": []
  },
  {
   "cell_type": "code",
   "execution_count": null,
   "metadata": {},
   "outputs": [],
   "source": []
  },
  {
   "cell_type": "code",
   "execution_count": null,
   "metadata": {},
   "outputs": [],
   "source": []
  }
 ],
 "metadata": {
  "kernelspec": {
   "display_name": "base",
   "language": "python",
   "name": "python3"
  },
  "language_info": {
   "codemirror_mode": {
    "name": "ipython",
    "version": 3
   },
   "file_extension": ".py",
   "mimetype": "text/x-python",
   "name": "python",
   "nbconvert_exporter": "python",
   "pygments_lexer": "ipython3",
   "version": "3.11.9"
  }
 },
 "nbformat": 4,
 "nbformat_minor": 2
}
