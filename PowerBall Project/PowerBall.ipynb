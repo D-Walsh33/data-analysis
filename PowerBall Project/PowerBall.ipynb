{
 "cells": [
  {
   "cell_type": "code",
   "execution_count": 9,
   "id": "b0c59b80-e1b1-43a8-96e5-617236f1c3e2",
   "metadata": {},
   "outputs": [],
   "source": [
    "#Import the libraries needed\n",
    "import pandas as pd\n",
    "import matplotlib.pyplot as plt"
   ]
  },
  {
   "cell_type": "code",
   "execution_count": 5,
   "id": "3d506c42-c84e-4a07-bf29-a7d90efa52a8",
   "metadata": {},
   "outputs": [],
   "source": [
    "#Read Lottery csv\n",
    "powerBall = pd.read_csv('./Lottery_Powerball_Winning_Numbers__Beginning_2010.csv')"
   ]
  },
  {
   "cell_type": "code",
   "execution_count": 12,
   "id": "e7d98df7-7dda-4624-9f8a-2f63f41c44b8",
   "metadata": {},
   "outputs": [
    {
     "data": {
      "text/html": [
       "<div>\n",
       "<style scoped>\n",
       "    .dataframe tbody tr th:only-of-type {\n",
       "        vertical-align: middle;\n",
       "    }\n",
       "\n",
       "    .dataframe tbody tr th {\n",
       "        vertical-align: top;\n",
       "    }\n",
       "\n",
       "    .dataframe thead th {\n",
       "        text-align: right;\n",
       "    }\n",
       "</style>\n",
       "<table border=\"1\" class=\"dataframe\">\n",
       "  <thead>\n",
       "    <tr style=\"text-align: right;\">\n",
       "      <th></th>\n",
       "      <th>Draw Date</th>\n",
       "      <th>Winning Numbers</th>\n",
       "      <th>Multiplier</th>\n",
       "    </tr>\n",
       "  </thead>\n",
       "  <tbody>\n",
       "    <tr>\n",
       "      <th>0</th>\n",
       "      <td>09/26/2020</td>\n",
       "      <td>11 21 27 36 62 24</td>\n",
       "      <td>3.0</td>\n",
       "    </tr>\n",
       "    <tr>\n",
       "      <th>1</th>\n",
       "      <td>09/30/2020</td>\n",
       "      <td>14 18 36 49 67 18</td>\n",
       "      <td>2.0</td>\n",
       "    </tr>\n",
       "    <tr>\n",
       "      <th>2</th>\n",
       "      <td>10/03/2020</td>\n",
       "      <td>18 31 36 43 47 20</td>\n",
       "      <td>2.0</td>\n",
       "    </tr>\n",
       "    <tr>\n",
       "      <th>3</th>\n",
       "      <td>10/07/2020</td>\n",
       "      <td>06 24 30 53 56 19</td>\n",
       "      <td>2.0</td>\n",
       "    </tr>\n",
       "    <tr>\n",
       "      <th>4</th>\n",
       "      <td>10/10/2020</td>\n",
       "      <td>05 18 23 40 50 18</td>\n",
       "      <td>3.0</td>\n",
       "    </tr>\n",
       "    <tr>\n",
       "      <th>...</th>\n",
       "      <td>...</td>\n",
       "      <td>...</td>\n",
       "      <td>...</td>\n",
       "    </tr>\n",
       "    <tr>\n",
       "      <th>1424</th>\n",
       "      <td>01/30/2023</td>\n",
       "      <td>01 04 12 36 49 05</td>\n",
       "      <td>2.0</td>\n",
       "    </tr>\n",
       "    <tr>\n",
       "      <th>1425</th>\n",
       "      <td>02/01/2023</td>\n",
       "      <td>31 43 58 59 66 09</td>\n",
       "      <td>2.0</td>\n",
       "    </tr>\n",
       "    <tr>\n",
       "      <th>1426</th>\n",
       "      <td>02/04/2023</td>\n",
       "      <td>02 08 15 19 58 10</td>\n",
       "      <td>2.0</td>\n",
       "    </tr>\n",
       "    <tr>\n",
       "      <th>1427</th>\n",
       "      <td>02/06/2023</td>\n",
       "      <td>05 11 22 23 69 07</td>\n",
       "      <td>2.0</td>\n",
       "    </tr>\n",
       "    <tr>\n",
       "      <th>1428</th>\n",
       "      <td>02/08/2023</td>\n",
       "      <td>52 58 59 64 66 09</td>\n",
       "      <td>2.0</td>\n",
       "    </tr>\n",
       "  </tbody>\n",
       "</table>\n",
       "<p>1429 rows × 3 columns</p>\n",
       "</div>"
      ],
      "text/plain": [
       "       Draw Date    Winning Numbers  Multiplier\n",
       "0     09/26/2020  11 21 27 36 62 24         3.0\n",
       "1     09/30/2020  14 18 36 49 67 18         2.0\n",
       "2     10/03/2020  18 31 36 43 47 20         2.0\n",
       "3     10/07/2020  06 24 30 53 56 19         2.0\n",
       "4     10/10/2020  05 18 23 40 50 18         3.0\n",
       "...          ...                ...         ...\n",
       "1424  01/30/2023  01 04 12 36 49 05         2.0\n",
       "1425  02/01/2023  31 43 58 59 66 09         2.0\n",
       "1426  02/04/2023  02 08 15 19 58 10         2.0\n",
       "1427  02/06/2023  05 11 22 23 69 07         2.0\n",
       "1428  02/08/2023  52 58 59 64 66 09         2.0\n",
       "\n",
       "[1429 rows x 3 columns]"
      ]
     },
     "execution_count": 12,
     "metadata": {},
     "output_type": "execute_result"
    }
   ],
   "source": [
    "#check result\n",
    "powerBall"
   ]
  },
  {
   "cell_type": "code",
   "execution_count": null,
   "id": "6b2796d1-7e16-41ac-9c30-6858c29c87c7",
   "metadata": {},
   "outputs": [],
   "source": [
    "# Convert Date time"
   ]
  },
  {
   "cell_type": "code",
   "execution_count": null,
   "id": "797e39d5-54ad-41a8-8166-7635efaf357e",
   "metadata": {},
   "outputs": [],
   "source": [
    "# Convert Winning Numbers to individual columns?"
   ]
  },
  {
   "cell_type": "code",
   "execution_count": null,
   "id": "01c94fe7-5cc9-4ac4-9d96-b202a5535199",
   "metadata": {},
   "outputs": [],
   "source": [
    "# Most common numbers on a given Day"
   ]
  },
  {
   "cell_type": "code",
   "execution_count": null,
   "id": "fa3355cb-3942-478f-b838-5a77256fe0ab",
   "metadata": {},
   "outputs": [],
   "source": [
    "# Most common Multiplier by year / month"
   ]
  },
  {
   "cell_type": "code",
   "execution_count": null,
   "id": "ebce1ccb-cf73-4b04-ace4-6383946d2432",
   "metadata": {},
   "outputs": [],
   "source": [
    "# Most common numbers by Year / month"
   ]
  }
 ],
 "metadata": {
  "kernelspec": {
   "display_name": "Python 3 (ipykernel)",
   "language": "python",
   "name": "python3"
  },
  "language_info": {
   "codemirror_mode": {
    "name": "ipython",
    "version": 3
   },
   "file_extension": ".py",
   "mimetype": "text/x-python",
   "name": "python",
   "nbconvert_exporter": "python",
   "pygments_lexer": "ipython3",
   "version": "3.11.7"
  }
 },
 "nbformat": 4,
 "nbformat_minor": 5
}
